{
 "cells": [
  {
   "cell_type": "code",
   "execution_count": 1,
   "metadata": {},
   "outputs": [],
   "source": [
    "str = 'Print only the words that start with s in this sentence'"
   ]
  },
  {
   "cell_type": "code",
   "execution_count": 2,
   "metadata": {},
   "outputs": [
    {
     "data": {
      "text/plain": [
       "['Print only the word', ' that ', 'tart with ', ' in thi', ' ', 'entence']"
      ]
     },
     "execution_count": 2,
     "metadata": {},
     "output_type": "execute_result"
    }
   ],
   "source": [
    "str.split('s')"
   ]
  },
  {
   "cell_type": "code",
   "execution_count": 10,
   "metadata": {},
   "outputs": [
    {
     "name": "stdout",
     "output_type": "stream",
     "text": [
      "Word ['Print', 'only', 'the', 'words', 'that', 'start', 'with', 's', 'in', 'this', 'sentence']\n",
      "start\n",
      "s\n",
      "sentence\n"
     ]
    }
   ],
   "source": [
    "word = str.split()\n",
    "print(\"Word\",word)\n",
    "for item in word:\n",
    "    if item[0] == 's':\n",
    "        print(item)\n",
    "    "
   ]
  },
  {
   "cell_type": "code",
   "execution_count": 3,
   "metadata": {},
   "outputs": [
    {
     "name": "stdout",
     "output_type": "stream",
     "text": [
      "Even number: 0\n",
      "Even number: 2\n",
      "Even number: 4\n",
      "Even number: 6\n",
      "Even number: 8\n"
     ]
    }
   ],
   "source": [
    "for x in range(0,10):\n",
    "    if x % 2 == 0:\n",
    "        print(\"Even number: {}\".format(x))"
   ]
  },
  {
   "cell_type": "markdown",
   "metadata": {},
   "source": [
    "Use a List Comprehension to create a list of all numbers between 1 and 50 that are divisible by 3."
   ]
  },
  {
   "cell_type": "code",
   "execution_count": 4,
   "metadata": {},
   "outputs": [],
   "source": [
    "list = [x for x in range(0,50) if x % 3 == 0]"
   ]
  },
  {
   "cell_type": "code",
   "execution_count": 5,
   "metadata": {},
   "outputs": [
    {
     "data": {
      "text/plain": [
       "[0, 3, 6, 9, 12, 15, 18, 21, 24, 27, 30, 33, 36, 39, 42, 45, 48]"
      ]
     },
     "execution_count": 5,
     "metadata": {},
     "output_type": "execute_result"
    }
   ],
   "source": [
    "list"
   ]
  },
  {
   "cell_type": "markdown",
   "metadata": {},
   "source": [
    "Go through the string below and if the length of a word is even print \"even!\""
   ]
  },
  {
   "cell_type": "code",
   "execution_count": 6,
   "metadata": {},
   "outputs": [],
   "source": [
    "st = 'Print every word in this sentence that has an even number of letters'\n",
    "length = len(st)"
   ]
  },
  {
   "cell_type": "code",
   "execution_count": 7,
   "metadata": {},
   "outputs": [
    {
     "ename": "SyntaxError",
     "evalue": "invalid syntax (<ipython-input-7-65b78dfdf777>, line 2)",
     "output_type": "error",
     "traceback": [
      "\u001b[1;36m  File \u001b[1;32m\"<ipython-input-7-65b78dfdf777>\"\u001b[1;36m, line \u001b[1;32m2\u001b[0m\n\u001b[1;33m    print(\"Length is even!\"))\u001b[0m\n\u001b[1;37m                            ^\u001b[0m\n\u001b[1;31mSyntaxError\u001b[0m\u001b[1;31m:\u001b[0m invalid syntax\n"
     ]
    }
   ],
   "source": [
    "if length % 2 == 0:\n",
    "    print(\"Length is even!\"))\n",
    "else:\n",
    "    print(\"Length is odd!\")"
   ]
  },
  {
   "cell_type": "code",
   "execution_count": 8,
   "metadata": {},
   "outputs": [
    {
     "name": "stdout",
     "output_type": "stream",
     "text": [
      "Length is even!\n"
     ]
    }
   ],
   "source": [
    "if length % 2 == 0:\n",
    "    print(\"Length is even!\")\n",
    "else:\n",
    "    print(\"Length is odd!\")"
   ]
  },
  {
   "cell_type": "markdown",
   "metadata": {},
   "source": [
    "Write a program that prints the integers from 1 to 100. But for multiples of three print \"Fizz\" instead of the number, and for the multiples of five print \"Buzz\". For numbers which are multiples of both three and five print \"FizzBuzz\"."
   ]
  },
  {
   "cell_type": "code",
   "execution_count": 9,
   "metadata": {},
   "outputs": [
    {
     "name": "stdout",
     "output_type": "stream",
     "text": [
      "FizzBuzz\n",
      "Other: 1\n",
      "Other: 2\n",
      "Fizz\n",
      "Other: 4\n",
      "Buzz\n",
      "Fizz\n",
      "Other: 7\n",
      "Other: 8\n",
      "Fizz\n",
      "Buzz\n",
      "Other: 11\n",
      "Fizz\n",
      "Other: 13\n",
      "Other: 14\n",
      "FizzBuzz\n",
      "Other: 16\n",
      "Other: 17\n",
      "Fizz\n",
      "Other: 19\n",
      "Buzz\n",
      "Fizz\n",
      "Other: 22\n",
      "Other: 23\n",
      "Fizz\n",
      "Buzz\n",
      "Other: 26\n",
      "Fizz\n",
      "Other: 28\n",
      "Other: 29\n",
      "FizzBuzz\n",
      "Other: 31\n",
      "Other: 32\n",
      "Fizz\n",
      "Other: 34\n",
      "Buzz\n",
      "Fizz\n",
      "Other: 37\n",
      "Other: 38\n",
      "Fizz\n",
      "Buzz\n",
      "Other: 41\n",
      "Fizz\n",
      "Other: 43\n",
      "Other: 44\n",
      "FizzBuzz\n",
      "Other: 46\n",
      "Other: 47\n",
      "Fizz\n",
      "Other: 49\n",
      "Buzz\n",
      "Fizz\n",
      "Other: 52\n",
      "Other: 53\n",
      "Fizz\n",
      "Buzz\n",
      "Other: 56\n",
      "Fizz\n",
      "Other: 58\n",
      "Other: 59\n",
      "FizzBuzz\n",
      "Other: 61\n",
      "Other: 62\n",
      "Fizz\n",
      "Other: 64\n",
      "Buzz\n",
      "Fizz\n",
      "Other: 67\n",
      "Other: 68\n",
      "Fizz\n",
      "Buzz\n",
      "Other: 71\n",
      "Fizz\n",
      "Other: 73\n",
      "Other: 74\n",
      "FizzBuzz\n",
      "Other: 76\n",
      "Other: 77\n",
      "Fizz\n",
      "Other: 79\n",
      "Buzz\n",
      "Fizz\n",
      "Other: 82\n",
      "Other: 83\n",
      "Fizz\n",
      "Buzz\n",
      "Other: 86\n",
      "Fizz\n",
      "Other: 88\n",
      "Other: 89\n",
      "FizzBuzz\n",
      "Other: 91\n",
      "Other: 92\n",
      "Fizz\n",
      "Other: 94\n",
      "Buzz\n",
      "Fizz\n",
      "Other: 97\n",
      "Other: 98\n",
      "Fizz\n"
     ]
    }
   ],
   "source": [
    "for x in range(0,100):\n",
    "    if x % 3 == 0 and x % 5 == 0:\n",
    "        print(\"FizzBuzz\")\n",
    "    elif x % 3 == 0:\n",
    "        print(\"Fizz\")\n",
    "    elif x % 5 == 0:\n",
    "        print(\"Buzz\")\n",
    "    else:\n",
    "        print(\"Other: {}\".format(x))"
   ]
  },
  {
   "cell_type": "markdown",
   "metadata": {},
   "source": [
    "Use List Comprehension to create a list of the first letters of every word in the string below:"
   ]
  },
  {
   "cell_type": "code",
   "execution_count": 13,
   "metadata": {},
   "outputs": [
    {
     "ename": "SyntaxError",
     "evalue": "invalid syntax (<ipython-input-13-b49d486c30b2>, line 2)",
     "output_type": "error",
     "traceback": [
      "\u001b[1;36m  File \u001b[1;32m\"<ipython-input-13-b49d486c30b2>\"\u001b[1;36m, line \u001b[1;32m2\u001b[0m\n\u001b[1;33m    list = [str for word in st.split() x = word[0]]\u001b[0m\n\u001b[1;37m                                       ^\u001b[0m\n\u001b[1;31mSyntaxError\u001b[0m\u001b[1;31m:\u001b[0m invalid syntax\n"
     ]
    }
   ],
   "source": [
    "st = 'Create a list of the first letters of every word in this string'\n",
    "list = [str for word in st.split() x = word[0]]\n",
    "    "
   ]
  },
  {
   "cell_type": "code",
   "execution_count": 14,
   "metadata": {},
   "outputs": [
    {
     "data": {
      "text/plain": [
       "['C', 'a', 'l', 'o', 't', 'f', 'l', 'o', 'e', 'w', 'i', 't', 's']"
      ]
     },
     "execution_count": 14,
     "metadata": {},
     "output_type": "execute_result"
    }
   ],
   "source": [
    "st = 'Create a list of the first letters of every word in this string'\n",
    "list = [word[0] for word in st.split()]\n",
    "list"
   ]
  },
  {
   "cell_type": "code",
   "execution_count": null,
   "metadata": {},
   "outputs": [],
   "source": []
  }
 ],
 "metadata": {
  "kernelspec": {
   "display_name": "Python 3",
   "language": "python",
   "name": "python3"
  },
  "language_info": {
   "codemirror_mode": {
    "name": "ipython",
    "version": 3
   },
   "file_extension": ".py",
   "mimetype": "text/x-python",
   "name": "python",
   "nbconvert_exporter": "python",
   "pygments_lexer": "ipython3",
   "version": "3.7.6"
  }
 },
 "nbformat": 4,
 "nbformat_minor": 4
}
