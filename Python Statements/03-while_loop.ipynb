{
 "cells": [
  {
   "cell_type": "code",
   "execution_count": 1,
   "metadata": {},
   "outputs": [
    {
     "name": "stdout",
     "output_type": "stream",
     "text": [
      "Current X is: 0\n",
      "Current X is: 1\n",
      "Current X is: 2\n",
      "Current X is: 3\n",
      "Current X is: 4\n",
      "Current X is: 5\n",
      "Current X is: 6\n",
      "Current X is: 7\n",
      "Current X is: 8\n",
      "Current X is: 9\n"
     ]
    }
   ],
   "source": [
    "x = 0\n",
    "while(x<10):\n",
    "    print(\"Current X is:\", x)\n",
    "    x += 1"
   ]
  },
  {
   "cell_type": "code",
   "execution_count": 2,
   "metadata": {},
   "outputs": [
    {
     "name": "stdout",
     "output_type": "stream",
     "text": [
      "Current x is : 1\n",
      "Continuing...\n",
      "Current x is : 2\n",
      "Breaking because x==3\n",
      "Current x is : 3\n",
      "Continuing...\n",
      "Current x is : 4\n",
      "Continuing...\n",
      "Current x is : 5\n",
      "Continuing...\n",
      "Current x is : 6\n",
      "Continuing...\n",
      "Current x is : 7\n",
      "Continuing...\n",
      "Current x is : 8\n",
      "Continuing...\n",
      "Current x is : 9\n",
      "Continuing...\n"
     ]
    }
   ],
   "source": [
    "x = 1\n",
    "while(x < 10):\n",
    "    print(\"Current x is :\", x)\n",
    "    x += 1\n",
    "    if (x ==3):\n",
    "        print('Breaking because x==3')\n",
    "    else:\n",
    "        print(\"Continuing...\")\n",
    "        continue"
   ]
  },
  {
   "cell_type": "code",
   "execution_count": 3,
   "metadata": {
    "scrolled": true
   },
   "outputs": [
    {
     "name": "stdout",
     "output_type": "stream",
     "text": [
      "Current x is : 1\n",
      "Continuing...\n",
      "Current x is : 2\n",
      "Breaking because x==3\n"
     ]
    }
   ],
   "source": [
    "x = 1\n",
    "while(x < 10):\n",
    "    print(\"Current x is :\", x)\n",
    "    x += 1\n",
    "    if (x ==3):\n",
    "        print('Breaking because x==3')\n",
    "        break\n",
    "    else:\n",
    "        print(\"Continuing...\")\n",
    "        continue"
   ]
  },
  {
   "cell_type": "markdown",
   "metadata": {},
   "source": [
    "Break and Continue:\n",
    "break and continue statements can appear anywhere inside the loop’s body, but we will usually put them further nested in conjunction with an if statement to perform an action based on some condition."
   ]
  }
 ],
 "metadata": {
  "kernelspec": {
   "display_name": "Python 3",
   "language": "python",
   "name": "python3"
  },
  "language_info": {
   "codemirror_mode": {
    "name": "ipython",
    "version": 3
   },
   "file_extension": ".py",
   "mimetype": "text/x-python",
   "name": "python",
   "nbconvert_exporter": "python",
   "pygments_lexer": "ipython3",
   "version": "3.7.6"
  }
 },
 "nbformat": 4,
 "nbformat_minor": 4
}
