{
 "cells": [
  {
   "cell_type": "markdown",
   "metadata": {},
   "source": [
    "# Opening and Reading Files"
   ]
  },
  {
   "cell_type": "code",
   "execution_count": 2,
   "metadata": {},
   "outputs": [
    {
     "data": {
      "text/plain": [
       "'C:\\\\Users\\\\Khaing Thu Zar\\\\Desktop\\\\Python_Lesson\\\\Advanced Python Modules'"
      ]
     },
     "execution_count": 2,
     "metadata": {},
     "output_type": "execute_result"
    }
   ],
   "source": [
    "pwd\n"
   ]
  },
  {
   "cell_type": "markdown",
   "metadata": {},
   "source": [
    "# Create New File"
   ]
  },
  {
   "cell_type": "code",
   "execution_count": 3,
   "metadata": {},
   "outputs": [],
   "source": [
    "f = open('test.txt','w')\n",
    "f.write('Test for create file')\n",
    "f.close()"
   ]
  },
  {
   "cell_type": "markdown",
   "metadata": {},
   "source": [
    "# Getting Directories\n"
   ]
  },
  {
   "cell_type": "markdown",
   "metadata": {},
   "source": [
    "Python has a built-in os module that allows us to use operating system dependent functionality.\n",
    "\n",
    "You can get the current directory:"
   ]
  },
  {
   "cell_type": "code",
   "execution_count": 4,
   "metadata": {},
   "outputs": [
    {
     "data": {
      "text/plain": [
       "'C:\\\\Users\\\\Khaing Thu Zar\\\\Desktop\\\\Python_Lesson\\\\Advanced Python Modules'"
      ]
     },
     "execution_count": 4,
     "metadata": {},
     "output_type": "execute_result"
    }
   ],
   "source": [
    "import os\n",
    "os.getcwd()"
   ]
  },
  {
   "cell_type": "markdown",
   "metadata": {},
   "source": [
    "# Listing Files in a Directory\n"
   ]
  },
  {
   "cell_type": "markdown",
   "metadata": {},
   "source": [
    "You can also use the os module to list directories."
   ]
  },
  {
   "cell_type": "code",
   "execution_count": 5,
   "metadata": {},
   "outputs": [
    {
     "data": {
      "text/plain": [
       "['.ipynb_checkpoints',\n",
       " '01- Collections-Module.ipynb',\n",
       " '02-Opening-and-Reading-Files-Folders.ipynb',\n",
       " 'test.txt']"
      ]
     },
     "execution_count": 5,
     "metadata": {},
     "output_type": "execute_result"
    }
   ],
   "source": [
    "os.listdir()"
   ]
  },
  {
   "cell_type": "code",
   "execution_count": 6,
   "metadata": {},
   "outputs": [
    {
     "data": {
      "text/plain": [
       "['.ipynb_checkpoints',\n",
       " '00-Python Object and Data Structure Basics',\n",
       " '3. Pre requirements',\n",
       " 'aaa.html',\n",
       " 'aaa_files',\n",
       " 'accounting_5 _5.txt',\n",
       " 'Arial.ttf',\n",
       " 'custom_test_list.xlsx',\n",
       " 'desktop.ini',\n",
       " 'Eclipse Java 2018-09.lnk',\n",
       " 'enterprise',\n",
       " 'enterprise.zip',\n",
       " 'font.reg',\n",
       " 'Font_export.reg',\n",
       " 'for closing balance.PNG',\n",
       " 'HP ProBook 440G5 DRV',\n",
       " 'ireport.conf',\n",
       " 'isgm_KhaingThuZar_vpn-general.ovpn',\n",
       " 'KMSpico Install.zip',\n",
       " 'Kt.txt',\n",
       " 'myfirstenotebook.ipynb',\n",
       " 'nila.docx',\n",
       " 'Office 2016 Setup',\n",
       " 'Opera Browser.lnk',\n",
       " 'PDF_Report',\n",
       " 'postgresql-9.6.3-1-windows-x64 [ include pgAdmin4 ].exe',\n",
       " 'python_learning_report.txt',\n",
       " 'Python_Lesson',\n",
       " 'QUO_0116_20-21 II - Odoo.html',\n",
       " 'QUO_0116_20-21 II - Odoo_files',\n",
       " 'Report for cash book.xlsx',\n",
       " 'Testing_lists_result(Accounting).xlsx',\n",
       " 'ttt.txt',\n",
       " 'USD_Received in journal item.xlsx',\n",
       " 'Viber.lnk',\n",
       " 'Videos',\n",
       " 'Videos.zip',\n",
       " 'WPS Office 2019.lnk',\n",
       " 'yaml',\n",
       " 'Zawgyi font & keyboard.zip',\n",
       " 'Zoom.lnk',\n",
       " '~$custom_test_list.xlsx']"
      ]
     },
     "execution_count": 6,
     "metadata": {},
     "output_type": "execute_result"
    }
   ],
   "source": [
    "os.listdir('C:\\\\Users\\\\Khaing Thu Zar\\\\Desktop')"
   ]
  },
  {
   "cell_type": "markdown",
   "metadata": {},
   "source": [
    "# Moving Files"
   ]
  },
  {
   "cell_type": "markdown",
   "metadata": {},
   "source": [
    "You can use the built-in shutil module to to move files to different locations"
   ]
  },
  {
   "cell_type": "code",
   "execution_count": 7,
   "metadata": {},
   "outputs": [
    {
     "data": {
      "text/plain": [
       "'C:\\\\Users\\\\Khaing Thu Zar\\\\Desktop\\\\test.txt'"
      ]
     },
     "execution_count": 7,
     "metadata": {},
     "output_type": "execute_result"
    }
   ],
   "source": [
    "import shutil\n",
    "shutil.move('test.txt', 'C:\\\\Users\\\\Khaing Thu Zar\\\\Desktop')"
   ]
  },
  {
   "cell_type": "code",
   "execution_count": 8,
   "metadata": {},
   "outputs": [
    {
     "data": {
      "text/plain": [
       "['.ipynb_checkpoints',\n",
       " '01- Collections-Module.ipynb',\n",
       " '02-Opening-and-Reading-Files-Folders.ipynb']"
      ]
     },
     "execution_count": 8,
     "metadata": {},
     "output_type": "execute_result"
    }
   ],
   "source": [
    "os.listdir()"
   ]
  },
  {
   "cell_type": "markdown",
   "metadata": {},
   "source": [
    "# Deleting Files"
   ]
  },
  {
   "cell_type": "markdown",
   "metadata": {},
   "source": [
    "NOTE: The os module provides 3 methods for deleting files:\n",
    "\n",
    "os.unlink(path) which deletes a file at the path your provide\n",
    "\n",
    "os.rmdir(path) which deletes a folder (folder must be empty) at the path your provide\n",
    "\n",
    "shutil.rmtree(path) this is the most dangerous, as it will remove all files and folders contained in the path. All of these methods can not be reversed! Which means if you make a mistake you won't be able to recover the file. Instead we will use the send2trash module. A safer alternative that sends deleted files to the trash bin instead of permanent removal."
   ]
  },
  {
   "cell_type": "code",
   "execution_count": null,
   "metadata": {},
   "outputs": [],
   "source": []
  }
 ],
 "metadata": {
  "kernelspec": {
   "display_name": "Python 3",
   "language": "python",
   "name": "python3"
  },
  "language_info": {
   "codemirror_mode": {
    "name": "ipython",
    "version": 3
   },
   "file_extension": ".py",
   "mimetype": "text/x-python",
   "name": "python",
   "nbconvert_exporter": "python",
   "pygments_lexer": "ipython3",
   "version": "3.7.6"
  }
 },
 "nbformat": 4,
 "nbformat_minor": 4
}
